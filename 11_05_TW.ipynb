{
  "nbformat": 4,
  "nbformat_minor": 0,
  "metadata": {
    "colab": {
      "provenance": [],
      "authorship_tag": "ABX9TyNfGLCTbIP7nnwHmrNXm+v6",
      "include_colab_link": true
    },
    "kernelspec": {
      "name": "python3",
      "display_name": "Python 3"
    },
    "language_info": {
      "name": "python"
    }
  },
  "cells": [
    {
      "cell_type": "markdown",
      "metadata": {
        "id": "view-in-github",
        "colab_type": "text"
      },
      "source": [
        "<a href=\"https://colab.research.google.com/github/KarinVe/my-wotech/blob/main/11_05_TW.ipynb\" target=\"_parent\"><img src=\"https://colab.research.google.com/assets/colab-badge.svg\" alt=\"Open In Colab\"/></a>"
      ]
    },
    {
      "cell_type": "markdown",
      "source": [
        "\n",
        "TEAMWORK: Steps (for simplifying the code logic): Step 1: Print a welcoming message to the player. Step 2: Initialize variables to keep track of the number of correct guesses and the total number of guesses. Step 3: Use a while loop to keep the game running until the player decides to quit. Step 4: If the player enters 'quit', exit the game loop. Step 5: Ask the player to guess the outcome of the coin toss (heads or tails). Step 6: Generate a random number (0 or 1) to represent the outcome of the coin toss. (If the number is 0, the outcome is heads. If it's 1, the outcome is tails.) Step 7: Compare the player's guess with the generated outcome. Step 8: Increment the correct and total number of guesses"
      ],
      "metadata": {
        "id": "zvJZRh7IA7PX"
      }
    },
    {
      "cell_type": "code",
      "source": [
        "import random\n",
        "total_guesses = 0\n",
        "correct_guesses = 0\n",
        "\n",
        "print('Welcome to the \"Heads and Tails\" game!')\n",
        "\n",
        "while True:\n",
        "    guess = input('Enter \"heads\" or \"tails\"! If you want to quit the game, type \"quit\". ').lower()\n",
        "\n",
        "    if guess == \"quit\":\n",
        "        print('The game is over!')\n",
        "        break\n",
        "\n",
        "    else:\n",
        "        random_number = random.randint(0, 1)\n",
        "        total_guesses += 1\n",
        "\n",
        "        if random_number == 0:\n",
        "            print('It was \"heads\"')\n",
        "\n",
        "        else:\n",
        "            print('It was \"tails\"')\n",
        "\n",
        "        if guess == \"tails\" and random_number == 1 or guess == \"heads\" and random_number == 0:\n",
        "            correct_guesses += 1\n",
        "            print(\"You guessed it!\")\n",
        "        else:\n",
        "            print(\"Wrong, try again!\")\n",
        "\n",
        "    print(f'The total number of guesses is {total_guesses} and number of correct guesses is {correct_guesses}')"
      ],
      "metadata": {
        "colab": {
          "base_uri": "https://localhost:8080/"
        },
        "id": "gikW5q5-a0z7",
        "outputId": "c60da78e-a553-4c1c-918b-716fd024dd13"
      },
      "execution_count": null,
      "outputs": [
        {
          "output_type": "stream",
          "name": "stdout",
          "text": [
            "Welcome to the \"Heads and Tails\" game!\n",
            "Enter \"heads\" or \"tails\"! If you want to quit the game, type \"quit\". heads\n",
            "It was \"heads\"\n",
            "You guessed it!\n",
            "The total number of guesses is 1 and number of correct guesses is 1\n",
            "Enter \"heads\" or \"tails\"! If you want to quit the game, type \"quit\". tails\n",
            "It was \"tails\"\n",
            "You guessed it!\n",
            "The total number of guesses is 2 and number of correct guesses is 2\n",
            "Enter \"heads\" or \"tails\"! If you want to quit the game, type \"quit\". heads\n",
            "It was \"tails\"\n",
            "Wrong, try again!\n",
            "The total number of guesses is 3 and number of correct guesses is 2\n",
            "Enter \"heads\" or \"tails\"! If you want to quit the game, type \"quit\". quit\n",
            "The game is over!\n"
          ]
        }
      ]
    },
    {
      "cell_type": "code",
      "execution_count": null,
      "metadata": {
        "colab": {
          "base_uri": "https://localhost:8080/"
        },
        "id": "-yx19lnsA6XM",
        "outputId": "548fd203-2b47-4276-ff29-d5583c25a97e"
      },
      "outputs": [
        {
          "output_type": "stream",
          "name": "stdout",
          "text": [
            "Welcome to the \"Heads and Tails\" game!\n",
            "Enter \"heads\" or \"tails\"! If you want to quit the game, type \"quit\". heads\n",
            "It is \"heads\"\n",
            "You guessed it!\n",
            "The total number of guesses is 1 and number of correct guesses is 1\n",
            "Enter \"heads\" or \"tails\"! If you want to quit the game, type \"quit\". tails\n",
            "It is \"tails\"\n",
            "You guessed it!\n",
            "The total number of guesses is 2 and number of correct guesses is 2\n",
            "Enter \"heads\" or \"tails\"! If you want to quit the game, type \"quit\". heads\n",
            "It is \"tails\"\n",
            "Wromg, try again!\n",
            "The total number of guesses is 3 and number of correct guesses is 2\n",
            "Enter \"heads\" or \"tails\"! If you want to quit the game, type \"quit\". heads\n",
            "It is \"tails\"\n",
            "Wromg, try again!\n",
            "The total number of guesses is 4 and number of correct guesses is 2\n",
            "Enter \"heads\" or \"tails\"! If you want to quit the game, type \"quit\". HEADS\n",
            "It is \"tails\"\n",
            "Wromg, try again!\n",
            "The total number of guesses is 5 and number of correct guesses is 2\n",
            "Enter \"heads\" or \"tails\"! If you want to quit the game, type \"quit\". QUIT\n",
            "The game is over!\n"
          ]
        }
      ],
      "source": [
        "import random\n",
        "total_guesses = []\n",
        "correct_guesses = []\n",
        "random_number = random.randint(0, 1)\n",
        "\n",
        "print('Welcome to the \"Heads and Tails\" game!')\n",
        "\n",
        "while True:\n",
        "    guess = input('Enter \"heads\" or \"tails\"! If you want to quit the game, type \"quit\". ').lower()\n",
        "\n",
        "    if guess == \"quit\":\n",
        "        print('The game is over!')\n",
        "        break\n",
        "\n",
        "    else:\n",
        "        total_guesses.append(guess)\n",
        "\n",
        "        if random_number == 0:\n",
        "            print('It is \"heads\"')\n",
        "            random_number = str(\"heads\") # chat gpt: selline viis on õige aga mitte hea praktika, python võimaldab variables tüübi muutmist, aga selgem oleks jrgm variant\n",
        "\n",
        "        else:\n",
        "            print('It is \"tails\"')\n",
        "            random_number = str(\"tails\")\n",
        "\n",
        "        if guess == random_number:\n",
        "            correct_guesses.append(guess)\n",
        "            print(\"You guessed it!\")\n",
        "        else:\n",
        "            print(\"Wrong, try again!\")\n",
        "\n",
        "    print(f'The total number of guesses is {len(total_guesses)} and number of correct guesses is {len(correct_guesses)}')\n",
        "\n",
        "\n"
      ]
    },
    {
      "cell_type": "markdown",
      "source": [],
      "metadata": {
        "id": "tLkB4Gt7a0c4"
      }
    }
  ]
}